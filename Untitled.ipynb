{
 "cells": [
  {
   "cell_type": "code",
   "execution_count": 26,
   "id": "507600f7-230b-45f4-a275-62c9aff791d8",
   "metadata": {},
   "outputs": [
    {
     "name": "stderr",
     "output_type": "stream",
     "text": [
      "Updating HTML index of packages in '.Library'\n",
      "\n",
      "Making 'packages.html' ...\n",
      " done\n",
      "\n"
     ]
    }
   ],
   "source": [
    "install.packages('nlme')\n",
    "library('nlme')"
   ]
  },
  {
   "cell_type": "code",
   "execution_count": 27,
   "id": "b6da094d-82c9-46d6-9208-12142a7569b7",
   "metadata": {},
   "outputs": [
    {
     "name": "stderr",
     "output_type": "stream",
     "text": [
      "Updating HTML index of packages in '.Library'\n",
      "\n",
      "Making 'packages.html' ...\n",
      " done\n",
      "\n"
     ]
    }
   ],
   "source": [
    "install.packages('lme4')\n",
    "library('lme4')"
   ]
  },
  {
   "cell_type": "code",
   "execution_count": 28,
   "id": "1ab4cef9-aa1c-42b5-9f1e-1268d003a4d0",
   "metadata": {},
   "outputs": [
    {
     "name": "stderr",
     "output_type": "stream",
     "text": [
      "Updating HTML index of packages in '.Library'\n",
      "\n",
      "Making 'packages.html' ...\n",
      " done\n",
      "\n"
     ]
    }
   ],
   "source": [
    "install.packages('readxl')\n",
    "library('readxl')"
   ]
  },
  {
   "cell_type": "code",
   "execution_count": 29,
   "id": "6043364b-d408-47f0-aab8-2fe103b3a212",
   "metadata": {},
   "outputs": [
    {
     "name": "stderr",
     "output_type": "stream",
     "text": [
      "Updating HTML index of packages in '.Library'\n",
      "\n",
      "Making 'packages.html' ...\n",
      " done\n",
      "\n"
     ]
    }
   ],
   "source": [
    "install.packages('raster')\n",
    "library('raster')"
   ]
  },
  {
   "cell_type": "code",
   "execution_count": null,
   "id": "4bae56c7-2f9e-4372-a154-67a0dff671fe",
   "metadata": {},
   "outputs": [],
   "source": []
  },
  {
   "cell_type": "code",
   "execution_count": 30,
   "id": "0db2bc3d-9832-4460-a10e-9d58021e7042",
   "metadata": {},
   "outputs": [
    {
     "name": "stderr",
     "output_type": "stream",
     "text": [
      "Warning message in install.packages(\"rgdal\"):\n",
      "“installation of package ‘rgdal’ had non-zero exit status”\n",
      "Updating HTML index of packages in '.Library'\n",
      "\n",
      "Making 'packages.html' ...\n",
      " done\n",
      "\n"
     ]
    },
    {
     "ename": "ERROR",
     "evalue": "Error in library(\"rgdal\"): there is no package called ‘rgdal’\n",
     "output_type": "error",
     "traceback": [
      "Error in library(\"rgdal\"): there is no package called ‘rgdal’\nTraceback:\n",
      "1. library(\"rgdal\")"
     ]
    }
   ],
   "source": [
    "install.packages('rgdal')\n",
    "library('rgdal')"
   ]
  },
  {
   "cell_type": "code",
   "execution_count": 16,
   "id": "3846863d-8d81-4e5f-893c-c758da7c72b2",
   "metadata": {},
   "outputs": [
    {
     "name": "stderr",
     "output_type": "stream",
     "text": [
      "New names:\n",
      "* `` -> ...1\n",
      "\n",
      "New names:\n",
      "* `` -> ...1\n",
      "\n",
      "New names:\n",
      "* `` -> ...1\n",
      "\n",
      "New names:\n",
      "* `` -> ...1\n",
      "\n",
      "New names:\n",
      "* `` -> ...1\n",
      "\n",
      "New names:\n",
      "* `` -> ...1\n",
      "\n",
      "New names:\n",
      "* `` -> ...1\n",
      "\n"
     ]
    }
   ],
   "source": [
    "acerifolia <- read_excel(\"GBIF_repeat.xlsx\", sheet = \"acerifolia\")\n",
    "aestivalis <- read_excel(\"GBIF_repeat.xlsx\", sheet = \"aestivalis\")\n",
    "cinerea <- read_excel(\"GBIF_repeat.xlsx\", sheet = \"cinerea\")\n",
    "palmata <- read_excel(\"GBIF_repeat.xlsx\", sheet = \"palmata\")\n",
    "riparia <- read_excel(\"GBIF_repeat.xlsx\", sheet = \"riparia\")\n",
    "rupestris <- read_excel(\"GBIF_repeat.xlsx\", sheet = \"rupestris\")\n",
    "vulpina <- read_excel(\"GBIF_repeat.xlsx\", sheet = \"vulpina\")"
   ]
  },
  {
   "cell_type": "code",
   "execution_count": 24,
   "id": "b86cce43-2a42-49b4-a76e-ed234427932c",
   "metadata": {},
   "outputs": [
    {
     "ename": "ERROR",
     "evalue": "Error in .rasterObjectFromFile(x, band = band, objecttype = \"RasterLayer\", : Cannot create RasterLayer object from this file; perhaps you need to install rgdal first\n",
     "output_type": "error",
     "traceback": [
      "Error in .rasterObjectFromFile(x, band = band, objecttype = \"RasterLayer\", : Cannot create RasterLayer object from this file; perhaps you need to install rgdal first\nTraceback:\n",
      "1. raster(\"MostProbableMerged.tif\")",
      "2. raster(\"MostProbableMerged.tif\")",
      "3. .local(x, ...)",
      "4. .rasterObjectFromFile(x, band = band, objecttype = \"RasterLayer\", \n .     ...)",
      "5. stop(\"Cannot create RasterLayer object from this file; perhaps you need to install rgdal first\")"
     ]
    }
   ],
   "source": [
    "soil <- raster('MostProbableMerged.tif')"
   ]
  }
 ],
 "metadata": {
  "kernelspec": {
   "display_name": "R",
   "language": "R",
   "name": "ir"
  },
  "language_info": {
   "codemirror_mode": "r",
   "file_extension": ".r",
   "mimetype": "text/x-r-source",
   "name": "R",
   "pygments_lexer": "r",
   "version": "4.1.0"
  }
 },
 "nbformat": 4,
 "nbformat_minor": 5
}
