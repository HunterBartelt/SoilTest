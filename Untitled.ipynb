{
 "cells": [
  {
   "cell_type": "code",
   "execution_count": 2,
   "id": "fitted-profession",
   "metadata": {},
   "outputs": [],
   "source": [
    "from owslib.wcs import WebCoverageService\n",
    "import rasterio as rs\n",
    "from rasterio "
   ]
  },
  {
   "cell_type": "code",
   "execution_count": 9,
   "id": "atomic-point",
   "metadata": {},
   "outputs": [],
   "source": [
    "wcs = WebCoverageService('http://maps.isric.org/mapserv?map=/map/wrb.map')"
   ]
  },
  {
   "cell_type": "code",
   "execution_count": 4,
   "id": "unique-saudi",
   "metadata": {},
   "outputs": [
    {
     "data": {
      "text/plain": [
       "[{'nativeSrs': 'http://www.opengis.net/def/crs/EPSG/0/4326',\n",
       "  'bbox': (-61.0674762500609, -180.0, 83.999167206, 186.933274624154)}]"
      ]
     },
     "execution_count": 4,
     "metadata": {},
     "output_type": "execute_result"
    }
   ],
   "source": [
    "cov_id = 'MostProbable'\n",
    "mp = wcs.contents[cov_id]\n",
    "mp.boundingboxes"
   ]
  },
  {
   "cell_type": "code",
   "execution_count": 6,
   "id": "latin-therapy",
   "metadata": {},
   "outputs": [],
   "source": [
    "subsets = [('X', -25, 5),('Y', 22, 47)]"
   ]
  },
  {
   "cell_type": "code",
   "execution_count": 7,
   "id": "greek-plastic",
   "metadata": {},
   "outputs": [],
   "source": [
    "crs = \"http://www.opengis.net/def/crs/EPSG/0/152160\""
   ]
  },
  {
   "cell_type": "code",
   "execution_count": 10,
   "id": "military-silly",
   "metadata": {},
   "outputs": [],
   "source": [
    "response = wcs.getCoverage(\n",
    "    identifier = [cov_id],\n",
    "    crs = crs,\n",
    "    subsets = subsets,\n",
    "    resx = 250,\n",
    "    resy = 250,\n",
    "    format = mp.supportedFormats[0]\n",
    ")"
   ]
  },
  {
   "cell_type": "code",
   "execution_count": 11,
   "id": "inside-intention",
   "metadata": {},
   "outputs": [],
   "source": [
    "with open ('./MostProbable.tif','wb') as file:\n",
    "    file.write(response.read())"
   ]
  },
  {
   "cell_type": "code",
   "execution_count": 13,
   "id": "small-tragedy",
   "metadata": {},
   "outputs": [
    {
     "ename": "AttributeError",
     "evalue": "module 'rasterio' has no attribute 'plot'",
     "output_type": "error",
     "traceback": [
      "\u001b[0;31m---------------------------------------------------------------------------\u001b[0m",
      "\u001b[0;31mAttributeError\u001b[0m                            Traceback (most recent call last)",
      "\u001b[0;32m<ipython-input-13-4d4199509f56>\u001b[0m in \u001b[0;36m<module>\u001b[0;34m\u001b[0m\n\u001b[1;32m      1\u001b[0m \u001b[0mMostProb\u001b[0m \u001b[0;34m=\u001b[0m \u001b[0mrs\u001b[0m\u001b[0;34m.\u001b[0m\u001b[0mopen\u001b[0m\u001b[0;34m(\u001b[0m\u001b[0;34m'./MostProbable.tif'\u001b[0m\u001b[0;34m,\u001b[0m\u001b[0mdriver\u001b[0m \u001b[0;34m=\u001b[0m \u001b[0;34m\"GTiff\"\u001b[0m\u001b[0;34m)\u001b[0m\u001b[0;34m\u001b[0m\u001b[0;34m\u001b[0m\u001b[0m\n\u001b[1;32m      2\u001b[0m \u001b[0mget_ipython\u001b[0m\u001b[0;34m(\u001b[0m\u001b[0;34m)\u001b[0m\u001b[0;34m.\u001b[0m\u001b[0mrun_line_magic\u001b[0m\u001b[0;34m(\u001b[0m\u001b[0;34m'matplotlib'\u001b[0m\u001b[0;34m,\u001b[0m \u001b[0;34m'inline'\u001b[0m\u001b[0;34m)\u001b[0m\u001b[0;34m\u001b[0m\u001b[0;34m\u001b[0m\u001b[0m\n\u001b[0;32m----> 3\u001b[0;31m \u001b[0mrs\u001b[0m\u001b[0;34m.\u001b[0m\u001b[0mplot\u001b[0m\u001b[0;34m.\u001b[0m\u001b[0mshow\u001b[0m\u001b[0;34m(\u001b[0m\u001b[0mMostProb\u001b[0m\u001b[0;34m,\u001b[0m \u001b[0mtitle\u001b[0m \u001b[0;34m=\u001b[0m \u001b[0;34m\"Most Probable Soil Type\"\u001b[0m\u001b[0;34m,\u001b[0m \u001b[0mcmap\u001b[0m\u001b[0;34m=\u001b[0m \u001b[0;34m\"plasma\"\u001b[0m\u001b[0;34m)\u001b[0m\u001b[0;34m\u001b[0m\u001b[0;34m\u001b[0m\u001b[0m\n\u001b[0m",
      "\u001b[0;31mAttributeError\u001b[0m: module 'rasterio' has no attribute 'plot'"
     ]
    }
   ],
   "source": [
    "MostProb = rs.open('./MostProbable.tif',driver = \"GTiff\")\n",
    "%matplotlib inline\n",
    "rs.plot.show(MostProb, title = \"Most Probable Soil Type\", cmap= \"plasma\")"
   ]
  }
 ],
 "metadata": {
  "kernelspec": {
   "display_name": "Python 3",
   "language": "python",
   "name": "python3"
  },
  "language_info": {
   "codemirror_mode": {
    "name": "ipython",
    "version": 3
   },
   "file_extension": ".py",
   "mimetype": "text/x-python",
   "name": "python",
   "nbconvert_exporter": "python",
   "pygments_lexer": "ipython3",
   "version": "3.8.8"
  }
 },
 "nbformat": 4,
 "nbformat_minor": 5
}
